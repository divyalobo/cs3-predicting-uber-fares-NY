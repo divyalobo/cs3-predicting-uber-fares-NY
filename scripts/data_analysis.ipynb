{
 "cells": [
  {
   "cell_type": "markdown",
   "metadata": {},
   "source": [
    "# Initial Dataset Exploration"
   ]
  },
  {
   "cell_type": "code",
   "execution_count": 2,
   "metadata": {},
   "outputs": [],
   "source": [
    "import pandas as pd\n",
    "import seaborn as sns\n",
    "import matplotlib.pyplot as plt"
   ]
  },
  {
   "cell_type": "code",
   "execution_count": 3,
   "metadata": {},
   "outputs": [],
   "source": [
    "df = pd.read_csv('../data/all_fares_cleaned.csv')"
   ]
  },
  {
   "cell_type": "code",
   "execution_count": 5,
   "metadata": {},
   "outputs": [
    {
     "name": "stdout",
     "output_type": "stream",
     "text": [
      "(44, 6)\n"
     ]
    }
   ],
   "source": [
    "print(df.shape)"
   ]
  },
  {
   "cell_type": "code",
   "execution_count": 6,
   "metadata": {},
   "outputs": [
    {
     "data": {
      "text/html": [
       "<div>\n",
       "<style scoped>\n",
       "    .dataframe tbody tr th:only-of-type {\n",
       "        vertical-align: middle;\n",
       "    }\n",
       "\n",
       "    .dataframe tbody tr th {\n",
       "        vertical-align: top;\n",
       "    }\n",
       "\n",
       "    .dataframe thead th {\n",
       "        text-align: right;\n",
       "    }\n",
       "</style>\n",
       "<table border=\"1\" class=\"dataframe\">\n",
       "  <thead>\n",
       "    <tr style=\"text-align: right;\">\n",
       "      <th></th>\n",
       "      <th>Month</th>\n",
       "      <th>Year</th>\n",
       "      <th>Average Uber Total Fare</th>\n",
       "      <th>Average Uber Base Fare</th>\n",
       "      <th>Average Lyft Total Fare</th>\n",
       "      <th>Average Lyft Base Fare</th>\n",
       "    </tr>\n",
       "  </thead>\n",
       "  <tbody>\n",
       "    <tr>\n",
       "      <th>0</th>\n",
       "      <td>2</td>\n",
       "      <td>2021</td>\n",
       "      <td>23.891282</td>\n",
       "      <td>19.209456</td>\n",
       "      <td>24.916026</td>\n",
       "      <td>19.209456</td>\n",
       "    </tr>\n",
       "    <tr>\n",
       "      <th>1</th>\n",
       "      <td>2</td>\n",
       "      <td>2024</td>\n",
       "      <td>30.003911</td>\n",
       "      <td>24.537868</td>\n",
       "      <td>28.991807</td>\n",
       "      <td>24.537868</td>\n",
       "    </tr>\n",
       "    <tr>\n",
       "      <th>2</th>\n",
       "      <td>9</td>\n",
       "      <td>2023</td>\n",
       "      <td>32.927748</td>\n",
       "      <td>26.916275</td>\n",
       "      <td>29.176778</td>\n",
       "      <td>26.916275</td>\n",
       "    </tr>\n",
       "    <tr>\n",
       "      <th>3</th>\n",
       "      <td>10</td>\n",
       "      <td>2019</td>\n",
       "      <td>21.653333</td>\n",
       "      <td>18.084945</td>\n",
       "      <td>74.210000</td>\n",
       "      <td>18.084945</td>\n",
       "    </tr>\n",
       "    <tr>\n",
       "      <th>4</th>\n",
       "      <td>6</td>\n",
       "      <td>2022</td>\n",
       "      <td>31.411499</td>\n",
       "      <td>25.491931</td>\n",
       "      <td>29.613316</td>\n",
       "      <td>25.491931</td>\n",
       "    </tr>\n",
       "  </tbody>\n",
       "</table>\n",
       "</div>"
      ],
      "text/plain": [
       "   Month  Year  Average Uber Total Fare  Average Uber Base Fare  \\\n",
       "0      2  2021                23.891282               19.209456   \n",
       "1      2  2024                30.003911               24.537868   \n",
       "2      9  2023                32.927748               26.916275   \n",
       "3     10  2019                21.653333               18.084945   \n",
       "4      6  2022                31.411499               25.491931   \n",
       "\n",
       "   Average Lyft Total Fare  Average Lyft Base Fare  \n",
       "0                24.916026               19.209456  \n",
       "1                28.991807               24.537868  \n",
       "2                29.176778               26.916275  \n",
       "3                74.210000               18.084945  \n",
       "4                29.613316               25.491931  "
      ]
     },
     "execution_count": 6,
     "metadata": {},
     "output_type": "execute_result"
    }
   ],
   "source": [
    "df.head()"
   ]
  },
  {
   "cell_type": "code",
   "execution_count": null,
   "metadata": {},
   "outputs": [],
   "source": []
  }
 ],
 "metadata": {
  "kernelspec": {
   "display_name": "Python 3",
   "language": "python",
   "name": "python3"
  },
  "language_info": {
   "codemirror_mode": {
    "name": "ipython",
    "version": 3
   },
   "file_extension": ".py",
   "mimetype": "text/x-python",
   "name": "python",
   "nbconvert_exporter": "python",
   "pygments_lexer": "ipython3",
   "version": "3.12.1"
  }
 },
 "nbformat": 4,
 "nbformat_minor": 2
}
